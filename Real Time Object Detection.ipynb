{
 "cells": [
  {
   "cell_type": "code",
   "execution_count": 1,
   "metadata": {},
   "outputs": [],
   "source": [
    "import matplotlib.pyplot as plt\n",
    "import numpy as np\n",
    "import cv2 as cv\n",
    "import tensorflow as tf\n",
    "import pandas as pd"
   ]
  },
  {
   "cell_type": "code",
   "execution_count": 2,
   "metadata": {},
   "outputs": [],
   "source": [
    "labels = pd.read_csv(\"https://raw.githubusercontent.com/nightrome/cocostuff/master/labels.txt\")\n",
    "labels = pd.DataFrame(labels[\"0: unlabeled\"].str.split(':',1).tolist(),\n",
    "                                   columns = ['label','name'])\n",
    "labels[\"label\"] = labels[\"label\"].astype(int)\n",
    "labels = labels.set_index(\"label\")\n",
    "labels_dict = labels.to_dict()\n",
    "list_images = []"
   ]
  },
  {
   "cell_type": "code",
   "execution_count": 3,
   "metadata": {},
   "outputs": [
    {
     "data": {
      "text/plain": [
       "['checkpoint',\n",
       " 'frozen_inference_graph.pb',\n",
       " 'model.ckpt.data-00000-of-00001',\n",
       " 'model.ckpt.index',\n",
       " 'model.ckpt.meta',\n",
       " 'pipeline.config',\n",
       " 'saved_model']"
      ]
     },
     "execution_count": 3,
     "metadata": {},
     "output_type": "execute_result"
    }
   ],
   "source": [
    "import urllib.request\n",
    "import os\n",
    "import tarfile\n",
    "import shutil\n",
    "\n",
    "base_url = 'http://download.tensorflow.org/models/object_detection/'\n",
    "file_name = 'ssd_mobilenet_v1_coco_2018_01_28.tar.gz'\n",
    "url = base_url + file_name\n",
    "urllib.request.urlretrieve(url, file_name)\n",
    "os.listdir()\n",
    "\n",
    "dir_name = file_name[0:-len('.tar.gz')]\n",
    "\n",
    "if os.path.exists(dir_name):\n",
    "  shutil.rmtree(dir_name) \n",
    "\n",
    "tarfile.open(file_name, 'r:gz').extractall('./')\n",
    "os.listdir(dir_name)"
   ]
  },
  {
   "cell_type": "code",
   "execution_count": 4,
   "metadata": {},
   "outputs": [
    {
     "name": "stdout",
     "output_type": "stream",
     "text": [
      "Model Imported. Visualize by running: tensorboard --logdir=/logs/tests/1/\n"
     ]
    }
   ],
   "source": [
    "import tensorflow as tf\n",
    "\n",
    "\n",
    "#Open the frozen_graph file\n",
    "#Load the graph into memory\n",
    "with tf.Session() as sess:\n",
    "    frozen_graph = os.path.join(dir_name, 'frozen_inference_graph.pb')\n",
    "    with tf.gfile.FastGFile(frozen_graph,'rb') as f:\n",
    "        graph_def = tf.GraphDef()\n",
    "        graph_def.ParseFromString(f.read())\n",
    "        g_in = tf.import_graph_def(graph_def)\n",
    "LOGDIR='/logs/tests/1/'\n",
    "train_writer = tf.summary.FileWriter(LOGDIR)\n",
    "train_writer.add_graph(sess.graph)\n",
    "    \n",
    "print(\"Model Imported. Visualize by running: \"\n",
    "          \"tensorboard --logdir={}\".format(LOGDIR))\n",
    "\n",
    "train_writer.flush()\n",
    "train_writer.close()\n"
   ]
  },
  {
   "cell_type": "code",
   "execution_count": 5,
   "metadata": {},
   "outputs": [],
   "source": [
    "sess.close()"
   ]
  },
  {
   "cell_type": "code",
   "execution_count": 6,
   "metadata": {},
   "outputs": [],
   "source": [
    "outputs = (\n",
    "    'num_detections',\n",
    "    'detection_classes',\n",
    "    'detection_scores',\n",
    "    'detection_boxes',\n",
    ")"
   ]
  },
  {
   "cell_type": "code",
   "execution_count": 7,
   "metadata": {},
   "outputs": [],
   "source": [
    "detections =[]"
   ]
  },
  {
   "cell_type": "code",
   "execution_count": 8,
   "metadata": {},
   "outputs": [],
   "source": [
    "cap = cv.VideoCapture(0)"
   ]
  },
  {
   "cell_type": "code",
   "execution_count": null,
   "metadata": {},
   "outputs": [],
   "source": [
    "with tf.Session() as sess:\n",
    "    sess.graph.as_default()\n",
    "    tf.import_graph_def(graph_def,name='')\n",
    "    while True:\n",
    "        ret, input_images = cap.read()\n",
    "        image_np_expanded = np.expand_dims(input_images, axis=0)\n",
    "\n",
    "        detections = (sess.run(\n",
    "            [sess.graph.get_tensor_by_name(f'{op}:0') for op in outputs],\n",
    "            feed_dict={ 'image_tensor:0': image_np_expanded }\n",
    "\n",
    "          ))\n",
    "        num_objects = int(detections[0][0])\n",
    "        for j in range(num_objects):\n",
    "            if detections[2][0][j]>0.5:\n",
    "                l_y = int(detections[3][0][j][0]*360)\n",
    "                l_x = int(detections[3][0][j][1]*640)\n",
    "                r_y = int(detections[3][0][j][2]*360)\n",
    "                r_x = int(detections[3][0][j][3]*640)\n",
    "                #pct = detections[0][2][0][i]*100\n",
    "                #pct = round(pct,2)\n",
    "                #plt.imshow(cv.rectangle(list_images[i],(l_x,l_y),(r_x,r_y),color = (255,0,0),thickness = 10))\n",
    "\n",
    "                cv.rectangle(input_images,(l_x,l_y),(r_x,r_y),color = (255,0,0),thickness = 5)\n",
    "                cv.putText(input_images, str(labels_dict[\"name\"][detections[1][0][j]]), (l_x, l_y), cv.FONT_HERSHEY_SIMPLEX, 1.2, [255,0,0], thickness = 2)\n",
    "                cv.putText(input_images, str(detections[2][0][j]), (l_x, r_y), cv.FONT_HERSHEY_SIMPLEX, 0.8, [0,255,0], thickness = 2)\n",
    "        cv.imshow(\"img\",cv.resize(input_images, (1000,800)))\n",
    "        if (cv.waitKey(25) & 0xFF == ord('q')):\n",
    "            cv.destroyAllWindows()\n",
    "            break"
   ]
  }
 ],
 "metadata": {
  "kernelspec": {
   "display_name": "Python 3",
   "language": "python",
   "name": "python3"
  },
  "language_info": {
   "codemirror_mode": {
    "name": "ipython",
    "version": 3
   },
   "file_extension": ".py",
   "mimetype": "text/x-python",
   "name": "python",
   "nbconvert_exporter": "python",
   "pygments_lexer": "ipython3",
   "version": "3.6.7"
  }
 },
 "nbformat": 4,
 "nbformat_minor": 2
}
